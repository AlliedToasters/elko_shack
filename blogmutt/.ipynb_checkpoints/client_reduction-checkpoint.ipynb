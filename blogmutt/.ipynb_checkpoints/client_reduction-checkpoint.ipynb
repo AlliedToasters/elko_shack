{
 "cells": [
  {
   "cell_type": "code",
   "execution_count": 1,
   "metadata": {},
   "outputs": [],
   "source": [
    "import pandas as pd\n",
    "import numpy as np\n",
    "import re\n",
    "from sklearn.preprocessing import StandardScaler\n",
    "from sklearn.decomposition import PCA, FactorAnalysis, KernelPCA\n",
    "from sklearn.cluster import MeanShift\n",
    "import urlmarker\n",
    "import matplotlib.pyplot as plt"
   ]
  },
  {
   "cell_type": "code",
   "execution_count": 2,
   "metadata": {},
   "outputs": [],
   "source": [
    "subs = pd.read_csv('subscriptions.csv')\n",
    "train = subs.sample(frac=.5)\n",
    "test = subs[~subs.index.isin(train.index)]"
   ]
  },
  {
   "cell_type": "code",
   "execution_count": 3,
   "metadata": {},
   "outputs": [],
   "source": [
    "def bps_encode(bps_value):\n",
    "    \"\"\"Returns an encoding for an input bps value.\"\"\"\n",
    "    encoder = {\n",
    "        'Content': 0,\n",
    "        '+Optimize': 1,\n",
    "        '+Photo': 2,\n",
    "        'BlogMutt Complete': 3\n",
    "    }\n",
    "    return encoder[bps_value]\n",
    "\n",
    "def info_count(other_info):\n",
    "    \"\"\"Takes other info field and returns number characters.\"\"\"\n",
    "    if isinstance(other_info, type(float())):\n",
    "        return 0\n",
    "    return len(other_info)\n",
    "\n",
    "def url_finder(other_info):\n",
    "    \"\"\"Takes other info field and looks for url. Returns 0 or 1.\"\"\"\n",
    "    try:\n",
    "        result = bool(re.findall(urlmarker.WEB_URL_REGEX, other_info))\n",
    "    except:\n",
    "        return 0\n",
    "    if result:\n",
    "        return 1\n",
    "    else:\n",
    "        return 0\n",
    "    \n",
    "def is_annual(plan_name):\n",
    "    \"\"\"Parses plan name to see if annual or not\"\"\"\n",
    "    if 'Annual' in plan_name:\n",
    "        return 1\n",
    "    else:\n",
    "        return 0\n",
    "    \n",
    "def is_content(plan_name):\n",
    "    \"\"\"Parses plan name to see if basic or content\"\"\"\n",
    "    if 'Basic' in plan_name:\n",
    "        return 0\n",
    "    elif 'Content' in plan_name:\n",
    "        return 1\n",
    "    else:\n",
    "        print('Unable to parse plan name: ', plan_name)\n",
    "        raise Exception\n",
    "        \n",
    "def encode_state(state):\n",
    "    \"\"\"Encodes state with a value\"\"\"\n",
    "    encoder = {\n",
    "        'active':0,\n",
    "        'pending':1,\n",
    "        'expired':2,\n",
    "        'canceled':3\n",
    "    }\n",
    "    return encoder[state]\n",
    "\n",
    "def to_numeric(df):\n",
    "    \"\"\"Takes the subs dataframe and returns the numeric version.\"\"\"\n",
    "    cols = [\n",
    "        'id', \n",
    "        'bps_plan', \n",
    "        'submitted_posts', \n",
    "        'purchased_posts', \n",
    "        'declined_posts', \n",
    "        'info_chars', \n",
    "        'has_url', \n",
    "        'plan_words', \n",
    "        'annual', \n",
    "        'content',\n",
    "        'preferred_writers', \n",
    "        'state', \n",
    "        'lt_days'\n",
    "    ]\n",
    "    fts = pd.DataFrame(columns=cols)\n",
    "    fts['id'] = df.id\n",
    "    fts['bps_plan'] = df['bps_plan'].apply(bps_encode)\n",
    "    fts['submitted_posts'] = df.submitted_posts\n",
    "    fts['purchased_posts'] = df.purchased_posts\n",
    "    fts['declined_posts'] = df.declined_posts\n",
    "    fts['info_chars'] = df.other_info.apply(info_count)\n",
    "    fts['has_url'] = df.other_info.apply(url_finder)\n",
    "    fts['plan_words'] = df.plan_words\n",
    "    fts['annual'] = df.plan_name.apply(is_annual)\n",
    "    fts['content'] = df.plan_name.apply(is_content)\n",
    "    fts['preferred_writers'] = df.preferred_writers\n",
    "    fts['state'] = df.state.apply(encode_state)\n",
    "    fts['lt_days'] = df.current_lifetime_days\n",
    "    return fts"
   ]
  },
  {
   "cell_type": "code",
   "execution_count": 4,
   "metadata": {},
   "outputs": [],
   "source": [
    "subs_fts = to_numeric(subs)\n",
    "ft_cols = [ \n",
    "        'bps_plan', \n",
    "        'submitted_posts', \n",
    "        'purchased_posts', \n",
    "        'declined_posts', \n",
    "        'info_chars', \n",
    "        'has_url', \n",
    "        'plan_words', \n",
    "        'annual', \n",
    "        'content',\n",
    "        'preferred_writers', \n",
    "        'state', \n",
    "        'lt_days'\n",
    "]\n",
    "fts = subs_fts[ft_cols].values"
   ]
  },
  {
   "cell_type": "code",
   "execution_count": 5,
   "metadata": {},
   "outputs": [],
   "source": [
    "X_train = to_numeric(train)\n",
    "X_test = to_numeric(test)\n",
    "scaler = StandardScaler()\n",
    "X_tr = scaler.fit_transform(X_train)\n",
    "X_te = scaler.transform(X_test)"
   ]
  },
  {
   "cell_type": "code",
   "execution_count": 6,
   "metadata": {},
   "outputs": [],
   "source": [
    "kpca = KernelPCA(kernel='rbf', n_components=25, fit_inverse_transform=True)\n",
    "X = kpca.fit_transform(X_tr)\n",
    "X_ = kpca.transform(X_te)"
   ]
  },
  {
   "cell_type": "code",
   "execution_count": 7,
   "metadata": {},
   "outputs": [
    {
     "data": {
      "text/plain": [
       "<matplotlib.legend.Legend at 0x7fdaba0197b8>"
      ]
     },
     "execution_count": 7,
     "metadata": {},
     "output_type": "execute_result"
    },
    {
     "data": {
      "image/png": "[encoded data removed]",
      "text/plain": [
       "<Figure size 432x288 with 1 Axes>"
      ]
     },
     "metadata": {},
     "output_type": "display_data"
    }
   ],
   "source": [
    "plt.scatter(X[:, 0], X[:, 1], label='train')\n",
    "plt.scatter(X_[:, 0], X_[:, 1], label='test')\n",
    "plt.legend()"
   ]
  },
  {
   "cell_type": "code",
   "execution_count": 10,
   "metadata": {},
   "outputs": [
    {
     "name": "stdout",
     "output_type": "stream",
     "text": [
      "cluster cluster 0 (train) size: 432\n",
      "cluster cluster 0 (test) size: 460\n",
      "cluster cluster 1 (train) size: 274\n",
      "cluster cluster 1 (test) size: 252\n",
      "cluster cluster 2 (train) size: 127\n",
      "cluster cluster 2 (test) size: 127\n",
      "cluster cluster 3 (train) size: 47\n",
      "cluster cluster 3 (test) size: 40\n"
     ]
    },
    {
     "data": {
      "image/png": "[encoded data removed]",
      "text/plain": [
       "<Figure size 432x288 with 1 Axes>"
      ]
     },
     "metadata": {},
     "output_type": "display_data"
    }
   ],
   "source": [
    "mns = MeanShift(bandwidth=.7)\n",
    "clusts = mns.fit_predict(X)\n",
    "clusts_ = mns.predict(X_)\n",
    "colors = ['red', 'blue', 'cyan', 'green']\n",
    "for clust in range(len(np.unique(clusts))):\n",
    "    name = 'cluster {}'.format(clust)\n",
    "    members = np.where(clusts==clust, True, False)\n",
    "    print('cluster {} (train) size:'.format(name), np.where(members, 1, 0).sum())\n",
    "    plt.scatter(X[members, 0], X[members, 1], label=name, color=colors[clust])\n",
    "    members = np.where(clusts_==clust, True, False)\n",
    "    print('cluster {} (test) size:'.format(name), np.where(members, 1, 0).sum())\n",
    "    plt.scatter(X_[members, 0], X_[members, 1], color=colors[clust])\n",
    "    \n",
    "plt.legend();\n",
    "plt.show();"
   ]
  },
  {
   "cell_type": "code",
   "execution_count": 31,
   "metadata": {},
   "outputs": [
    {
     "data": {
      "image/png": "[encoded data removed]",
      "text/plain": [
       "<Figure size 432x288 with 2 Axes>"
      ]
     },
     "metadata": {},
     "output_type": "display_data"
    }
   ],
   "source": [
    "def describe_cluster(df, cluster):\n",
    "    \"\"\"Performs some statistics on a cluster\"\"\"\n",
    "    clust = df[df.cluster==cluster]\n",
    "    pop = df[~df.index.isin(clust.index)]\n",
    "    fig, ax = plt.subplots(1, 2)\n",
    "    fig.suptitle('Cluster {} Statistics'.format(cluster+1))\n",
    "    x = [len(clust), len(pop)]\n",
    "    ax[0].pie(x, labels=['group size: {}'.format(x[0]), 'not in group: {}'.format(x[1])])\n",
    "    ax[1].bar(['ten', 'four'], [10, 4])\n",
    "    plt.show();\n",
    "    \n",
    "describe_cluster(df, 0)"
   ]
  },
  {
   "cell_type": "code",
   "execution_count": 11,
   "metadata": {},
   "outputs": [
    {
     "name": "stderr",
     "output_type": "stream",
     "text": [
      "/home/alliedtoasters/miniconda3/envs/dev1/lib/python3.6/site-packages/ipykernel/__main__.py:2: SettingWithCopyWarning: \n",
      "A value is trying to be set on a copy of a slice from a DataFrame.\n",
      "Try using .loc[row_indexer,col_indexer] = value instead\n",
      "\n",
      "See the caveats in the documentation: http://pandas.pydata.org/pandas-docs/stable/indexing.html#indexing-view-versus-copy\n",
      "  from ipykernel import kernelapp as app\n"
     ]
    }
   ],
   "source": [
    "train['cluster'] = clusts\n",
    "test['cluster'] = clusts_"
   ]
  },
  {
   "cell_type": "code",
   "execution_count": 12,
   "metadata": {},
   "outputs": [],
   "source": [
    "df = pd.concat([train, test], axis=0)\n",
    "df = df.sort_index().copy()\n",
    "df['days_writer'] = np.where(df.preferred_writers>0, df.current_lifetime_days/df.preferred_writers, 0)\n",
    "df['posts/day'] = np.where(df.current_lifetime_days > 0, df.submitted_posts/df.current_lifetime_days, 0)\n",
    "df['has_url'] = X_train.has_url\n",
    "df['has_url'] = X_test.has_url\n",
    "df['info_chars'] = X_train.info_chars\n",
    "df['info_chars'] = X_test.info_chars"
   ]
  },
  {
   "cell_type": "code",
   "execution_count": 13,
   "metadata": {},
   "outputs": [
    {
     "data": {
      "text/plain": [
       "<BarContainer object of 4 artists>"
      ]
     },
     "execution_count": 13,
     "metadata": {},
     "output_type": "execute_result"
    },
    {
     "data": {
      "image/png": "[encoded data removed]",
      "text/plain": [
       "<Figure size 432x288 with 1 Axes>"
      ]
     },
     "metadata": {},
     "output_type": "display_data"
    }
   ],
   "source": [
    "x = []\n",
    "y = []\n",
    "for clust in df.cluster.unique():\n",
    "    x.append('cluster {}'.format(clust))\n",
    "    #y.append(df[df.cluster==clust].decline_rate.mean())\n",
    "    y.append(len(df[df.cluster==clust]))\n",
    "    \n",
    "plt.bar(x, y)\n",
    "    "
   ]
  },
  {
   "cell_type": "code",
   "execution_count": 14,
   "metadata": {},
   "outputs": [
    {
     "data": {
      "text/plain": [
       "12.689156810932417"
      ]
     },
     "execution_count": 14,
     "metadata": {},
     "output_type": "execute_result"
    }
   ],
   "source": [
    "df[df.cluster==2].days_writer.mean()"
   ]
  },
  {
   "cell_type": "code",
   "execution_count": 15,
   "metadata": {},
   "outputs": [
    {
     "data": {
      "text/plain": [
       "Index(['id', 'bps_plan', 'submitted_posts', 'purchased_posts',\n",
       "       'declined_posts', 'info_chars', 'has_url', 'plan_words', 'annual',\n",
       "       'content', 'preferred_writers', 'state', 'lt_days'],\n",
       "      dtype='object')"
      ]
     },
     "execution_count": 15,
     "metadata": {},
     "output_type": "execute_result"
    }
   ],
   "source": [
    "X_train.columns"
   ]
  },
  {
   "cell_type": "code",
   "execution_count": 16,
   "metadata": {},
   "outputs": [],
   "source": [
    "df['has_url'] = X_train.has_url\n",
    "df['has_url'] = X_test.has_url\n",
    "df['info_chars'] = X_train.info_chars\n",
    "df['info_chars'] = X_test.info_chars"
   ]
  },
  {
   "cell_type": "code",
   "execution_count": 17,
   "metadata": {},
   "outputs": [
    {
     "ename": "SyntaxError",
     "evalue": "invalid syntax (<ipython-input-17-5506e98d538c>, line 18)",
     "output_type": "error",
     "traceback": [
      "\u001b[0;36m  File \u001b[0;32m\"<ipython-input-17-5506e98d538c>\"\u001b[0;36m, line \u001b[0;32m18\u001b[0m\n\u001b[0;31m    bps_plan = numeric[]\u001b[0m\n\u001b[0m                       ^\u001b[0m\n\u001b[0;31mSyntaxError\u001b[0m\u001b[0;31m:\u001b[0m invalid syntax\n"
     ]
    }
   ],
   "source": [
    "def revert_to_features(numeric):\n",
    "    \"\"\"Reverses numerization process.\"\"\"\n",
    "    cols = [\n",
    "        'bps_plan', \n",
    "        'submitted_posts', \n",
    "        'purchased_posts', \n",
    "        'declined_posts', \n",
    "        'info_chars', \n",
    "        'has_url', \n",
    "        'plan_words', \n",
    "        'annual', \n",
    "        'content',\n",
    "        'preferred_writers', \n",
    "        'state', \n",
    "        'lt_days'\n",
    "    ]\n",
    "    fts = pd.DataFrame(columns=cols)\n",
    "    bps_plan = numeric[]\n",
    "    fts['bps_plan'] = df['bps_plan'].apply(bps_encode)\n",
    "    fts['submitted_posts'] = df.submitted_posts\n",
    "    fts['purchased_posts'] = df.purchased_posts\n",
    "    fts['declined_posts'] = df.declined_posts\n",
    "    fts['info_chars'] = df.other_info.apply(info_count)\n",
    "    fts['has_url'] = df.other_info.apply(url_finder)\n",
    "    fts['plan_words'] = df.plan_words\n",
    "    fts['annual'] = df.plan_name.apply(is_annual)\n",
    "    fts['content'] = df.plan_name.apply(is_content)\n",
    "    fts['preferred_writers'] = df.preferred_writers\n",
    "    fts['state'] = df.state.apply(encode_state)\n",
    "    fts['lt_days'] = df.current_lifetime_days\n",
    "    return numeric\n",
    "    \n",
    "\n",
    "for clust in np.unique(clusts):\n",
    "    name = 'cluster {}'.format(clust)\n",
    "    members = np.where(clusts==clust, True, False)\n",
    "    cluster = X[members, :]\n",
    "    mean_value = cluster.mean(axis=0)\n",
    "    to_std = kpca.inverse_transform(mean_value.reshape(1, -1))\n",
    "    to_numeric = scaler.inverse_transform(to_std)\n",
    "    print(revert_to_features(to_numeric))\n",
    "    break\n",
    "    "
   ]
  },
  {
   "cell_type": "code",
   "execution_count": null,
   "metadata": {},
   "outputs": [],
   "source": []
  },
  {
   "cell_type": "code",
   "execution_count": null,
   "metadata": {},
   "outputs": [],
   "source": []
  }
 ],
 "metadata": {
  "kernelspec": {
   "display_name": "Python [conda env:dev1]",
   "language": "python",
   "name": "conda-env-dev1-py"
  },
  "language_info": {
   "codemirror_mode": {
    "name": "ipython",
    "version": 3
   },
   "file_extension": ".py",
   "mimetype": "text/x-python",
   "name": "python",
   "nbconvert_exporter": "python",
   "pygments_lexer": "ipython3",
   "version": "3.6.4"
  }
 },
 "nbformat": 4,
 "nbformat_minor": 2
}
